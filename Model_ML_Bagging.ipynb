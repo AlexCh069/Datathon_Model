{
 "cells": [
  {
   "cell_type": "markdown",
   "metadata": {},
   "source": [
    "# MODELO ML"
   ]
  },
  {
   "cell_type": "code",
   "execution_count": 2,
   "metadata": {},
   "outputs": [],
   "source": [
    "# Importamos las librerias a usar\n",
    "import pandas as pd\n",
    "from sklearn.ensemble import BaggingClassifier\n",
    "from sklearn.tree import DecisionTreeClassifier\n",
    "import sklearn.metrics as metrics\n",
    "from sklearn.metrics import recall_score, accuracy_score\n",
    "from sklearn.model_selection import train_test_split"
   ]
  },
  {
   "cell_type": "code",
   "execution_count": 3,
   "metadata": {},
   "outputs": [
    {
     "data": {
      "text/plain": [
       "(8999, 7)"
      ]
     },
     "execution_count": 3,
     "metadata": {},
     "output_type": "execute_result"
    }
   ],
   "source": [
    "# Extraemos el set de datos y dropeamos las columnas que no se usaran\n",
    "data = pd.read_csv('E-Commerce_train.csv',delimiter = ';')\n",
    "columnas_descartables = ['ID','Gender','Prior_purchases','Mode_of_Shipment','Customer_rating']\n",
    "data = data.drop(columns=columnas_descartables)\n",
    "data.shape"
   ]
  },
  {
   "cell_type": "code",
   "execution_count": 4,
   "metadata": {},
   "outputs": [],
   "source": [
    "# Cambiamos los valores de algunas variables para que pueden ser interpretados \n",
    "# por el modelo\n",
    "data.Warehouse_block = data['Warehouse_block'].map({'A':1,'B':2,'C':3,'D':4,'F':5})\n",
    "data.Product_importance = data['Product_importance'].map({'low':1,'medium':2,'high':3})"
   ]
  },
  {
   "cell_type": "code",
   "execution_count": 5,
   "metadata": {},
   "outputs": [],
   "source": [
    "X = data[['Warehouse_block', 'Customer_care_calls', 'Cost_of_the_Product','Product_importance', 'Discount_offered', 'Weight_in_gms']]\n",
    "y = data['Reached.on.Time_Y.N']\n",
    "\n",
    "x_train, x_test, y_train, y_test = train_test_split(X, y, test_size=0.2)"
   ]
  },
  {
   "cell_type": "markdown",
   "metadata": {},
   "source": [
    "Usando Bagging como metodo de ensamble para la generacion del modelo de ML"
   ]
  },
  {
   "cell_type": "code",
   "execution_count": 15,
   "metadata": {},
   "outputs": [],
   "source": [
    "clf_bagging = BaggingClassifier(base_estimator=DecisionTreeClassifier(), bootstrap_features=False, n_estimators= 60, n_jobs = -1)\n",
    "clf_bagging.fit(x_train, y_train)\n",
    "y_train_pred = clf_bagging.predict(x_train)\n",
    "y_test_pred = clf_bagging.predict(x_test)\n"
   ]
  },
  {
   "cell_type": "code",
   "execution_count": 16,
   "metadata": {},
   "outputs": [
    {
     "name": "stdout",
     "output_type": "stream",
     "text": [
      "1.0 [0.69267516 0.64846416]\n"
     ]
    }
   ],
   "source": [
    "# Entrenamiento\n",
    "accuracy_train = metrics.accuracy_score(y_train, y_train_pred)\n",
    "precision_train = recall_score(y_test, y_test_pred, average= None)\n",
    "print(accuracy_train,precision_train)"
   ]
  },
  {
   "cell_type": "code",
   "execution_count": 18,
   "metadata": {},
   "outputs": [
    {
     "name": "stdout",
     "output_type": "stream",
     "text": [
      "0.6638888888888889 [0.69267516 0.64846416]\n"
     ]
    }
   ],
   "source": [
    "# Testeo \n",
    "accuracy_test = metrics.accuracy_score(y_test, y_test_pred)\n",
    "precision_test = recall_score(y_test, y_test_pred, average= None)\n",
    "print(accuracy_test,precision_test)"
   ]
  },
  {
   "cell_type": "code",
   "execution_count": 19,
   "metadata": {},
   "outputs": [],
   "source": [
    "# Datos de testeo para comprobacion de accuracy y reacall de dashboard\n",
    "data_test = pd.read_csv('E-Commerce_test.csv',delimiter = ';')\n",
    "columnas_descartables = ['ID','Gender','Prior_purchases','Mode_of_Shipment','Customer_rating']\n",
    "data_test = data_test.drop(columns=columnas_descartables)\n",
    "data_test.Warehouse_block = data_test['Warehouse_block'].map({'A':1,'B':2,'C':3,'D':4,'F':5})\n",
    "data_test.Product_importance = data_test['Product_importance'].map({'low':1,'medium':2,'high':3})"
   ]
  },
  {
   "cell_type": "code",
   "execution_count": 34,
   "metadata": {},
   "outputs": [],
   "source": [
    "X_test = data_test[['Warehouse_block', 'Customer_care_calls', 'Cost_of_the_Product','Product_importance', 'Discount_offered', 'Weight_in_gms']]\n",
    "\n",
    "Y_test = clf_bagging.predict(X_test)"
   ]
  },
  {
   "cell_type": "code",
   "execution_count": 35,
   "metadata": {},
   "outputs": [],
   "source": [
    "Y_pred = pd.DataFrame(Y_test)\n",
    "Y_pred = Y_pred.rename(columns={0: 'pred'})"
   ]
  },
  {
   "cell_type": "code",
   "execution_count": 36,
   "metadata": {},
   "outputs": [],
   "source": [
    "Y_pred.to_csv('AlexCh069.csv',index =  False)"
   ]
  }
 ],
 "metadata": {
  "kernelspec": {
   "display_name": "Python 3.10.7 64-bit",
   "language": "python",
   "name": "python3"
  },
  "language_info": {
   "codemirror_mode": {
    "name": "ipython",
    "version": 3
   },
   "file_extension": ".py",
   "mimetype": "text/x-python",
   "name": "python",
   "nbconvert_exporter": "python",
   "pygments_lexer": "ipython3",
   "version": "3.10.7"
  },
  "orig_nbformat": 4,
  "vscode": {
   "interpreter": {
    "hash": "768ed05c3ef8b2c1ddddab0cec77f964ed6ea41732cd5ab8bcc435db316b9d80"
   }
  }
 },
 "nbformat": 4,
 "nbformat_minor": 2
}
