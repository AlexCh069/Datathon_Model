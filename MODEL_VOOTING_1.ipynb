{
 "cells": [
  {
   "cell_type": "markdown",
   "metadata": {},
   "source": [
    "# MODELO VOOTING (VERSION: 1)"
   ]
  },
  {
   "cell_type": "code",
   "execution_count": 37,
   "metadata": {},
   "outputs": [],
   "source": [
    "# Importamos las librerias a usar\n",
    "import pandas as pd\n",
    "\n",
    "from sklearn.ensemble import VotingClassifier\n",
    "from sklearn.tree import DecisionTreeClassifier\n",
    "from sklearn.neighbors import KNeighborsClassifier\n",
    "from sklearn.linear_model import LogisticRegression\n",
    "from sklearn.svm import SVC\n",
    "from sklearn.naive_bayes import GaussianNB\n",
    "\n",
    "import sklearn.metrics as metrics\n",
    "from sklearn.metrics import recall_score, accuracy_score\n",
    "from sklearn.model_selection import train_test_split\n",
    "from sklearn.metrics import classification_report\n"
   ]
  },
  {
   "cell_type": "code",
   "execution_count": 16,
   "metadata": {},
   "outputs": [],
   "source": [
    "#Prueba 2\n",
    "# 1 Cost_of_the_Product, Discount_offered)\n",
    "# 2 Discount_offered, Weigth_gms)\n",
    "# Weigth <---> Discount <---> Cost_Product\n",
    "# Weigth <---> Customer_care_Calls <---> Cost_Productos"
   ]
  },
  {
   "cell_type": "code",
   "execution_count": 17,
   "metadata": {},
   "outputs": [
    {
     "data": {
      "text/html": [
       "<div>\n",
       "<style scoped>\n",
       "    .dataframe tbody tr th:only-of-type {\n",
       "        vertical-align: middle;\n",
       "    }\n",
       "\n",
       "    .dataframe tbody tr th {\n",
       "        vertical-align: top;\n",
       "    }\n",
       "\n",
       "    .dataframe thead th {\n",
       "        text-align: right;\n",
       "    }\n",
       "</style>\n",
       "<table border=\"1\" class=\"dataframe\">\n",
       "  <thead>\n",
       "    <tr style=\"text-align: right;\">\n",
       "      <th></th>\n",
       "      <th>Customer_care_calls</th>\n",
       "      <th>Cost_of_the_Product</th>\n",
       "      <th>Discount_offered</th>\n",
       "      <th>Weight_in_gms</th>\n",
       "      <th>Reached.on.Time_Y.N</th>\n",
       "    </tr>\n",
       "  </thead>\n",
       "  <tbody>\n",
       "    <tr>\n",
       "      <th>0</th>\n",
       "      <td>4</td>\n",
       "      <td>177</td>\n",
       "      <td>44</td>\n",
       "      <td>1233</td>\n",
       "      <td>1</td>\n",
       "    </tr>\n",
       "    <tr>\n",
       "      <th>1</th>\n",
       "      <td>4</td>\n",
       "      <td>216</td>\n",
       "      <td>59</td>\n",
       "      <td>3088</td>\n",
       "      <td>1</td>\n",
       "    </tr>\n",
       "    <tr>\n",
       "      <th>2</th>\n",
       "      <td>2</td>\n",
       "      <td>183</td>\n",
       "      <td>48</td>\n",
       "      <td>3374</td>\n",
       "      <td>1</td>\n",
       "    </tr>\n",
       "  </tbody>\n",
       "</table>\n",
       "</div>"
      ],
      "text/plain": [
       "   Customer_care_calls  Cost_of_the_Product  Discount_offered  Weight_in_gms  \\\n",
       "0                    4                  177                44           1233   \n",
       "1                    4                  216                59           3088   \n",
       "2                    2                  183                48           3374   \n",
       "\n",
       "   Reached.on.Time_Y.N  \n",
       "0                    1  \n",
       "1                    1  \n",
       "2                    1  "
      ]
     },
     "execution_count": 17,
     "metadata": {},
     "output_type": "execute_result"
    }
   ],
   "source": [
    "data_train = pd.read_csv('E-Commerce_train.csv',delimiter = ';')\n",
    "columnas_descartables = ['ID','Product_importance','Warehouse_block','Gender','Prior_purchases','Mode_of_Shipment','Customer_rating']\n",
    "data_train = data_train.drop(columns=columnas_descartables)\n",
    "data_train.head(3)\n"
   ]
  },
  {
   "cell_type": "code",
   "execution_count": 18,
   "metadata": {},
   "outputs": [],
   "source": [
    "# Definimos atributos y variable a predecir\n",
    "\n",
    "X = data_train[['Customer_care_calls', 'Cost_of_the_Product', 'Discount_offered', 'Weight_in_gms']]\n",
    "\n",
    "Y = data_train['Reached.on.Time_Y.N']"
   ]
  },
  {
   "cell_type": "code",
   "execution_count": 19,
   "metadata": {},
   "outputs": [],
   "source": [
    "x_train, x_test, y_train, y_test = train_test_split(X, Y, test_size=0.2)"
   ]
  },
  {
   "cell_type": "code",
   "execution_count": 20,
   "metadata": {},
   "outputs": [],
   "source": [
    "from sklearn.preprocessing import StandardScaler\n",
    "\n",
    "sc_X = StandardScaler()\n",
    "x_train = sc_X.fit_transform(x_train)\n",
    "x_test = sc_X.transform(x_test)"
   ]
  },
  {
   "cell_type": "code",
   "execution_count": 38,
   "metadata": {},
   "outputs": [],
   "source": [
    "# Instanciamos 3 modelos\n",
    "\n",
    "\n",
    "\n",
    "desc_Class = DecisionTreeClassifier()\n",
    "\n",
    "k_neigh = KNeighborsClassifier(n_neighbors=4,weights = 'distance',leaf_size=20)\n",
    "\n",
    "svc_clf = SVC(C=1, kernel='sigmoid', gamma='auto')\n",
    "\n",
    "naive_clf = GaussianNB()\n",
    "\n",
    "log_clf = LogisticRegression(C=1, solver='liblinear')"
   ]
  },
  {
   "cell_type": "code",
   "execution_count": 39,
   "metadata": {},
   "outputs": [
    {
     "name": "stdout",
     "output_type": "stream",
     "text": [
      "RandomForestClassifier 0.6905555555555556\n",
      "SVC 0.6061111111111112\n",
      "GaussianNB 0.6722222222222223\n",
      "DecisionTreeClassifier 0.7027777777777777\n",
      "KNeighborsClassifier 0.7011111111111111\n",
      "Tardó 3 segundos\n"
     ]
    }
   ],
   "source": [
    "# Los entrenamos, predecimos y evaluamos\n",
    "import time\n",
    "\n",
    "comienzo = time.time()\n",
    "for clf in (log_clf, svc_clf, naive_clf, desc_Class, k_neigh):\n",
    "    \n",
    "    clf.fit(x_train, y_train)\n",
    "    y_pred = clf.predict(x_test)\n",
    "    \n",
    "    print(clf.__class__.__name__, accuracy_score(y_test, y_pred))\n",
    "    \n",
    "fin = time.time() - comienzo\n",
    "\n",
    "print(f'Tardó {round(fin)} segundos')"
   ]
  },
  {
   "cell_type": "code",
   "execution_count": 41,
   "metadata": {},
   "outputs": [],
   "source": [
    "voting_clf_hard = VotingClassifier(estimators=[('lr', clf_forest), \n",
    "                                               ('svc', svc_clf),\n",
    "                                               ('knei', k_neigh),\n",
    "                                               ('tree',desc_Class), \n",
    "                                               ('naive', naive_clf)],\n",
    "                                   voting='hard')\n",
    "\n",
    "voting_clf_hard.fit(x_train, y_train)\n",
    "y_pred = voting_clf_hard.predict(x_test)"
   ]
  },
  {
   "cell_type": "code",
   "execution_count": 42,
   "metadata": {},
   "outputs": [
    {
     "name": "stdout",
     "output_type": "stream",
     "text": [
      "Accuracy en test: 0.7033333333333334\n"
     ]
    }
   ],
   "source": [
    "print('Accuracy en test:', accuracy_score(y_test, y_pred))"
   ]
  },
  {
   "cell_type": "code",
   "execution_count": 43,
   "metadata": {},
   "outputs": [
    {
     "name": "stdout",
     "output_type": "stream",
     "text": [
      "              precision    recall  f1-score   support\n",
      "\n",
      "           0       0.56      0.73      0.63       634\n",
      "           1       0.82      0.69      0.75      1166\n",
      "\n",
      "    accuracy                           0.70      1800\n",
      "   macro avg       0.69      0.71      0.69      1800\n",
      "weighted avg       0.73      0.70      0.71      1800\n",
      "\n"
     ]
    }
   ],
   "source": [
    "print(classification_report(y_test, y_pred))"
   ]
  },
  {
   "cell_type": "code",
   "execution_count": 44,
   "metadata": {},
   "outputs": [],
   "source": [
    "# Datos de testeo para comprobacion de accuracy y reacall de dashboard\n",
    "data_test = pd.read_csv('E-Commerce_test.csv',delimiter = ';')\n",
    "columnas_descartables = ['ID','Gender','Prior_purchases','Mode_of_Shipment','Customer_rating']\n",
    "data_test = data_test.drop(columns=columnas_descartables)\n",
    "data_test.Warehouse_block = data_test['Warehouse_block'].map({'A':1,'B':2,'C':3,'D':4,'F':5})\n",
    "data_test.Product_importance = data_test['Product_importance'].map({'low':1,'medium':2,'high':3})"
   ]
  },
  {
   "cell_type": "code",
   "execution_count": 45,
   "metadata": {},
   "outputs": [],
   "source": [
    "X_test_pred = data_test[['Customer_care_calls', 'Cost_of_the_Product', 'Discount_offered', 'Weight_in_gms']]\n",
    "sc_X_test = StandardScaler()\n",
    "X_test_pred = sc_X_test.fit_transform(X_test_pred)\n"
   ]
  },
  {
   "cell_type": "code",
   "execution_count": 46,
   "metadata": {},
   "outputs": [],
   "source": [
    "Y_test = voting_clf_hard.predict(X_test_pred)"
   ]
  },
  {
   "cell_type": "code",
   "execution_count": 47,
   "metadata": {},
   "outputs": [],
   "source": [
    "Y_pred = pd.DataFrame(Y_test)\n",
    "Y_pred = Y_pred.rename(columns={0: 'pred'})"
   ]
  },
  {
   "cell_type": "code",
   "execution_count": 48,
   "metadata": {},
   "outputs": [],
   "source": [
    "Y_pred.to_csv('AlexCh0693.csv',index =  False)"
   ]
  }
 ],
 "metadata": {
  "kernelspec": {
   "display_name": "Python 3.10.7 64-bit",
   "language": "python",
   "name": "python3"
  },
  "language_info": {
   "codemirror_mode": {
    "name": "ipython",
    "version": 3
   },
   "file_extension": ".py",
   "mimetype": "text/x-python",
   "name": "python",
   "nbconvert_exporter": "python",
   "pygments_lexer": "ipython3",
   "version": "3.10.7"
  },
  "orig_nbformat": 4,
  "vscode": {
   "interpreter": {
    "hash": "768ed05c3ef8b2c1ddddab0cec77f964ed6ea41732cd5ab8bcc435db316b9d80"
   }
  }
 },
 "nbformat": 4,
 "nbformat_minor": 2
}
